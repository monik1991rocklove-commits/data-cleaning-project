{
  "nbformat": 4,
  "nbformat_minor": 0,
  "metadata": {
    "colab": {
      "provenance": []
    },
    "kernelspec": {
      "name": "python3",
      "display_name": "Python 3"
    },
    "language_info": {
      "name": "python"
    }
  },
  "cells": [
    {
      "cell_type": "code",
      "execution_count": 2,
      "metadata": {
        "colab": {
          "base_uri": "https://localhost:8080/"
        },
        "id": "g0xd3JWKfFm6",
        "outputId": "81938bd6-b5fe-4023-fdbf-6a7b6c40ac11"
      },
      "outputs": [
        {
          "output_type": "stream",
          "name": "stdout",
          "text": [
            "Datos originales:\n",
            "   Nombre  Edad  Salario Departamento\n",
            "0     Ana  25.0  50000.0       Ventas\n",
            "1    Luis  30.0  60000.0    Marketing\n",
            "2  Carlos   NaN      NaN       Ventas\n",
            "3    None  22.0  45000.0           IT\n",
            "4   María  28.0  52000.0         None\n",
            "\n",
            "Datos limpios:\n",
            "        Nombre  Edad  Salario Departamento\n",
            "0          Ana  25.0  50000.0       Ventas\n",
            "1         Luis  30.0  60000.0    Marketing\n",
            "2       Carlos  26.5  51000.0       Ventas\n",
            "3  Desconocido  22.0  45000.0           IT\n",
            "4        María  28.0  52000.0      General\n"
          ]
        }
      ],
      "source": [
        "# data_cleaning_project.py\n",
        "\n",
        "import pandas as pd\n",
        "\n",
        "# Crear dataset con datos \"sucios\"\n",
        "data = {\n",
        "    \"Nombre\": [\"Ana\", \"Luis\", \"Carlos\", None, \"María\"],\n",
        "    \"Edad\": [25, 30, None, 22, 28],\n",
        "    \"Salario\": [50000, 60000, None, 45000, 52000],\n",
        "    \"Departamento\": [\"Ventas\", \"Marketing\", \"Ventas\", \"IT\", None]\n",
        "}\n",
        "\n",
        "df = pd.DataFrame(data)\n",
        "\n",
        "# Mostrar datos originales\n",
        "print(\"Datos originales:\")\n",
        "print(df)\n",
        "\n",
        "# Limpieza de datos\n",
        "df['Edad'] = df['Edad'].fillna(df['Edad'].median())  # Rellenar Edad con mediana\n",
        "df['Salario'] = df['Salario'].fillna(df['Salario'].median())  # Rellenar Salario con mediana\n",
        "df['Nombre'] = df['Nombre'].fillna('Desconocido')  # Rellenar nombres vacíos\n",
        "df['Departamento'] = df['Departamento'].fillna('General')  # Rellenar departamentos vacíos\n",
        "\n",
        "# Mostrar datos limpios\n",
        "print(\"\\nDatos limpios:\")\n",
        "print(df)\n"
      ]
    }
  ]
}